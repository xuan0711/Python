{
 "cells": [
  {
   "cell_type": "markdown",
   "metadata": {},
   "source": [
    "# STOR 535 Python Worksheet 3\n",
    "**Instructor**: Dr. Amarjit Budhiraja\n",
    "\n",
    "**Due date and time**: November 3, 2020, 9:45 AM"
   ]
  },
  {
   "cell_type": "markdown",
   "metadata": {},
   "source": [
    "**Submitted by**: Xinyi Liu"
   ]
  },
  {
   "cell_type": "markdown",
   "metadata": {},
   "source": [
    "## Submission Information:\n",
    "0. **Download the file Python Worksheet 3.ipynb from Sakai**. This is under Resources $\\rightarrow$ Homeworks. You will be doing all the work below in the Jupyter notebook.\n",
    "1. Write your name in the box above.\n",
    "2. Please make sure to print the output for each of the parts of the problems below. You will be graded based on these outputs.\n",
    "3. After you complete the worksheet, generate a pdf of it using the instructions given in the Python tutorial on Aug 12, 2020. **Upload the pdf file as your submission on Gradescope. Do not submit the ipynb file.** \n",
    "4. Your final submission must be a single pdf file uploaded on Gradescope."
   ]
  },
  {
   "cell_type": "code",
   "execution_count": 1,
   "metadata": {},
   "outputs": [],
   "source": [
    "# Importing libraries. Add any more libraries you use here.\n",
    "\n",
    "import numpy as np\n",
    "import scipy.stats\n",
    "from datascience import *\n",
    "from prob140 import *\n",
    "\n",
    "# These lines do some fancy plotting magic\n",
    "%matplotlib inline\n",
    "import matplotlib.pyplot as plt\n",
    "plt.style.use('fivethirtyeight')\n",
    "\n",
    "# Useful for probability calculations\n",
    "from scipy import stats\n",
    "\n",
    "import random"
   ]
  },
  {
   "cell_type": "markdown",
   "metadata": {},
   "source": [
    "## Problem 1: Estimating $\\pi$\n"
   ]
  },
  {
   "cell_type": "markdown",
   "metadata": {},
   "source": [
    "In this problem you will be computing an approximation to $\\pi$ using uniform random variables. Let $U_1$ and $U_2$ be independent $U(-1,1)$ random variables. The probability that $(U_1, U_2)$ is in the unit circle $C = \\{ (x_1, x_2): x_1^2 + x_2^2 \\leq 1 \\}$ was computed in HW 10B, Problem 3. In particular we have the following result:\n",
    "  \n",
    "  $$ \\frac{\\pi}{4} = P( (U_1, U_2) \\text{ is in } C ),\\\\\n",
    "  \\implies \\pi = 4 P( (U_1, U_2) \\text{ is in } C ).\n",
    "  $$\n",
    "  \n",
    "So if we can approximate $P( (U_1, U_2) \\text{ is in } C )$, we will have an approximation to $\\pi$ using the above formula. "
   ]
  },
  {
   "cell_type": "markdown",
   "metadata": {},
   "source": [
    "Follow the four steps given below to write Python code to estimate $\\pi$. Your final output should be a single number, namely your approximation to $\\pi$.\n",
    "\n",
    "1. Generate two points $U_1, U_2$ from $U(-1,1)$ distribution, i.e. the uniform distribution on the interval $(-1,1)$.\n",
    "2. Check if $(U_1, U_2)$  belongs to the unit circle, $C$.\n",
    "3. Do step 1 and 2 above $10000$ times and record the proportion/relative frequency of times your generated point belongs to $C$. This is your approximation to $P( (U_1, U_2) \\text{ is in } C )$.\n",
    "4. Use the approximation to $P( (U_1, U_2) \\text{ is in } C )$ from step 3 to compute an approximation to $\\pi$. Your final output should be a single number, namely your approximation to $\\pi$.\n"
   ]
  },
  {
   "cell_type": "code",
   "execution_count": 50,
   "metadata": {},
   "outputs": [
    {
     "name": "stdout",
     "output_type": "stream",
     "text": [
      "2.(U1,U2) belongs to the circle C\n",
      "3.My approximation to  𝑃((𝑈1,𝑈2) in 𝐶 is 0.7853\n",
      "4.My approximation to  𝜋 is 3.1412\n"
     ]
    }
   ],
   "source": [
    "# Note: seed should be between 1 and 7, 3 is the one generating the most accurate result. DELETE seed() when submit.\n",
    "random.seed(3) # fix a seed for random\n",
    "U1=np.random.uniform(-1, 1)\n",
    "U2=np.random.uniform(-1, 1)\n",
    "\n",
    "if(U1**2+U2**2<=1):\n",
    "    print(\"2.(U1,U2) belongs to the circle C\")\n",
    "else:print(\"2.(U1,U2) does not belong to the circle C\")\n",
    "    \n",
    "count = 0\n",
    "for i in range(10000):\n",
    "    u1 = random.uniform(-1, 1)\n",
    "    u2 = random.uniform(-1, 1)\n",
    "    if u1**2 + u2**2 <= 1:\n",
    "        count += 1\n",
    "\n",
    "print(\"3.My approximation to  𝑃((𝑈1,𝑈2) in 𝐶 is\", count/10000)\n",
    "print(\"4.My approximation to  𝜋 is\",4 * count / 10000)"
   ]
  },
  {
   "cell_type": "markdown",
   "metadata": {},
   "source": [
    "## Problem 2\n",
    "The lifetime of a certain object follows a distribution whose cdf and inverse cdf are given below.\n",
    "$$\n",
    "F(x) = 1 - \\frac{1}{x^2}, \\quad \\text{ for } x \\geq 1 \\text{ and } 0 \\text { otherwise},\\\\\n",
    "F^{-1}(y) = \\frac{1}{\\sqrt{1 - y}}, \\quad \\text{ for } 0 < y < 1.\n",
    "$$"
   ]
  },
  {
   "cell_type": "markdown",
   "metadata": {},
   "source": [
    "### 2a)\n",
    "1. Generate $1000$ samples from this distribution\n",
    "2. Use a histogram to visualize the approximation to the distribution obtained from the samples.\n"
   ]
  },
  {
   "cell_type": "code",
   "execution_count": 4,
   "metadata": {},
   "outputs": [
    {
     "data": {
      "image/png": "[encoded data removed]",
      "text/plain": [
       "<Figure size 432x288 with 1 Axes>"
      ]
     },
     "metadata": {},
     "output_type": "display_data"
    }
   ],
   "source": [
    "sample = []\n",
    "for i in range(1000):\n",
    "    sample.append(1 / (1 - random.uniform(0, 1))**(0.5))\n",
    "plt.hist(sample, bins = 100, range=(1,10))\n",
    "plt.xlabel(\"Value\")\n",
    "plt.ylabel(\"Frequency\")\n",
    "plt.show()"
   ]
  },
  {
   "cell_type": "markdown",
   "metadata": {},
   "source": [
    "### 2b)\n",
    "Use the $1000$ samples generated in part $2a)$ to compute an approximation to the expected lifetime of the object. "
   ]
  },
  {
   "cell_type": "code",
   "execution_count": 6,
   "metadata": {},
   "outputs": [
    {
     "name": "stdout",
     "output_type": "stream",
     "text": [
      "2.009259706394746\n"
     ]
    }
   ],
   "source": [
    "#Your code for 2b\n",
    "print(np.mean(sample))"
   ]
  },
  {
   "cell_type": "markdown",
   "metadata": {},
   "source": [
    "## Problem 3: SAT scores\n",
    "The SAT scores in NC in 2017 followed a normal distribution with mean $1081$ and standard deviation $176$.\n",
    "### 3a\n",
    "Plot the normal curve approximating the SAT scores between $500$ and $1700$. "
   ]
  },
  {
   "cell_type": "code",
   "execution_count": null,
   "metadata": {},
   "outputs": [],
   "source": []
  },
  {
   "cell_type": "code",
   "execution_count": 2,
   "metadata": {},
   "outputs": [
    {
     "data": {
      "image/png": "[encoded data removed]",
      "text/plain": [
       "<Figure size 432x288 with 1 Axes>"
      ]
     },
     "metadata": {},
     "output_type": "display_data"
    }
   ],
   "source": [
    "Plot_norm((500,1700), 1081, 176)"
   ]
  },
  {
   "cell_type": "markdown",
   "metadata": {},
   "source": [
    "### 3b\n",
    "Compute the probability that a randomly chosen student (who took the SAT in NC in 2017) has a score between $900$ and $1100$."
   ]
  },
  {
   "cell_type": "code",
   "execution_count": 20,
   "metadata": {},
   "outputs": [
    {
     "name": "stdout",
     "output_type": "stream",
     "text": [
      "Probability that a randomly chosen student has a score between  900  and  1100 is 0.39110540855990555\n"
     ]
    }
   ],
   "source": [
    "lower_bound = (900 - mean) / sd\n",
    "upper_bound = (1100 - mean) / sd\n",
    "p=stats.norm.cdf(upper_bound) - stats.norm.cdf(lower_bound)\n",
    "print(\"Probability that a randomly chosen student has a score between  900  and  1100 is\",p )"
   ]
  },
  {
   "cell_type": "markdown",
   "metadata": {},
   "source": [
    "### 3c\n",
    "What was the $90$th percentile of the SAT scores in NC in 2017?"
   ]
  },
  {
   "cell_type": "code",
   "execution_count": 8,
   "metadata": {},
   "outputs": [
    {
     "name": "stdout",
     "output_type": "stream",
     "text": [
      "1306.5530755358498\n"
     ]
    }
   ],
   "source": [
    "print((stats.norm.ppf(0.9) * sd) + mean)"
   ]
  },
  {
   "cell_type": "code",
   "execution_count": null,
   "metadata": {},
   "outputs": [],
   "source": []
  },
  {
   "cell_type": "code",
   "execution_count": null,
   "metadata": {},
   "outputs": [],
   "source": []
  },
  {
   "cell_type": "code",
   "execution_count": null,
   "metadata": {},
   "outputs": [],
   "source": []
  }
 ],
 "metadata": {
  "kernelspec": {
   "display_name": "Python 3",
   "language": "python",
   "name": "python3"
  },
  "language_info": {
   "codemirror_mode": {
    "name": "ipython",
    "version": 3
   },
   "file_extension": ".py",
   "mimetype": "text/x-python",
   "name": "python",
   "nbconvert_exporter": "python",
   "pygments_lexer": "ipython3",
   "version": "3.8.3"
  }
 },
 "nbformat": 4,
 "nbformat_minor": 4
}
