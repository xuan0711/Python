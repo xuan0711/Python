{
 "cells": [
  {
   "cell_type": "markdown",
   "metadata": {},
   "source": [
    "# STOR 535 Python Worksheet 4\n",
    "**Instructor**: Dr. Amarjit Budhiraja\n",
    "\n",
    "**Due date and time**: November 17, 2020, 9:45 AM"
   ]
  },
  {
   "cell_type": "markdown",
   "metadata": {},
   "source": [
    "**Submitted by**: Type your full name here"
   ]
  },
  {
   "cell_type": "markdown",
   "metadata": {},
   "source": [
    "## Submission Information:\n",
    "0. **Download the file Python Worksheet 4.ipynb from Sakai**. This is under Resources $\\rightarrow$ Homeworks. You will be doing all the work below in the Jupyter notebook.\n",
    "1. Write your name in the box above.\n",
    "2. Please make sure to print the output for each of the parts of the problems below. You will be graded based on these outputs.\n",
    "3. After you complete the worksheet, generate a pdf of it using the instructions given in the Python tutorial on Aug 12, 2020. **Upload the pdf file as your submission on Gradescope. Do not submit the ipynb file.** \n",
    "4. Your final submission must be a single pdf file uploaded on Gradescope."
   ]
  },
  {
   "cell_type": "code",
   "execution_count": 2,
   "metadata": {},
   "outputs": [],
   "source": [
    "# Importing libraries. Add any more libraries you use here.\n",
    "\n",
    "import numpy as np\n",
    "from datascience import *\n",
    "from prob140 import *\n",
    "\n",
    "# These lines do some fancy plotting magic\n",
    "%matplotlib inline\n",
    "import matplotlib.pyplot as plt\n",
    "plt.style.use('fivethirtyeight')\n",
    "\n",
    "# Useful for probability calculations\n",
    "from scipy import stats"
   ]
  },
  {
   "cell_type": "markdown",
   "metadata": {},
   "source": [
    "## Problem 1\n",
    "A university announced that it admitted $2500$ students for the following year’s freshman class.\n",
    "However, the university has dorm room spots for only $1786$ freshman students. If there is a $70\\%$ chance\n",
    "that an admitted student will decide to accept the offer and attend this university, what is the probability that\n",
    "the university will not have enough dormitory room spots for the freshman class? [Hint: Look at Python worksheet on Binomial distribution]"
   ]
  },
  {
   "cell_type": "code",
   "execution_count": null,
   "metadata": {},
   "outputs": [],
   "source": [
    "#your code for problem 1"
   ]
  },
  {
   "cell_type": "markdown",
   "metadata": {},
   "source": [
    "## Problem 2\n",
    "A university announced that it admitted $2500$ students for the following year’s freshman class. The $2500$\n",
    " admitted students consist of $1500$ female and $1000$ male students. The university has dorm room\n",
    "spots for only $1786$ freshman students which it plans to assign randomly amongst the $2500$ students. What\n",
    "is the probability that at least $1080$ females receive an offer of a dorm room spot? [Hint: Look at Python worksheet on Hypergeometric distribution]"
   ]
  },
  {
   "cell_type": "code",
   "execution_count": null,
   "metadata": {},
   "outputs": [],
   "source": [
    "#your code for problem 2"
   ]
  },
  {
   "cell_type": "markdown",
   "metadata": {},
   "source": [
    "## Problem 3\n"
   ]
  },
  {
   "cell_type": "markdown",
   "metadata": {},
   "source": [
    "### a)\n",
    "Let $X$ and $Y$ be two random variables with the joint PDF \n",
    "$$\n",
    "f_{X,Y}(x,y)= \\begin{cases}\n",
    "\tcy &  \\mbox{ for } 0<x<1, \\; 0 <y<1, \\; 0 < x+2y<1\\\\\n",
    "\t 0& \\mbox{ otherwise }.\n",
    "\t \\end{cases}\n",
    "$$\n",
    "Then we can generate samples from the joint distribution by the following steps:\n",
    "1. Compute the inverse cdf $F_X^{-1}$ of the marginal distribution of $X$ using pen and paper. Use $F_X^{-1}$ to sample from the marginal distribution of $X$. Let your sampled value be a number $a$ where $0 < a < 1$.\n",
    "2. Compute the inverse  cdf $F_{Y \\mid X = a}^{-1}$ of the conditional distribution of $Y \\mid X = a$ using pen and paper. Use $F_{Y \\mid X = a}^{-1}$ to sample from the conditional distribution of $Y \\mid X = a$. Let $b$ be your sampled value in this step.\n",
    "3. $(a,b)$ is then one sample from the joint distribution.\n",
    "\n",
    "Write Python code to \n",
    "1. Generate $m = 1000$ samples from the joint distribution of $(X,Y)$\n",
    "2. Use the $1000$ samples to estimate $P(X < Y)$ by computing the proportion of samples where $X < Y$. Your final answer should be one number, namely your estimate for  $P(X < Y)$. Check your answer by verifying that it is close to the answer of Problem 5b) from HW 11AB.\n",
    "\n"
   ]
  },
  {
   "cell_type": "code",
   "execution_count": null,
   "metadata": {},
   "outputs": [],
   "source": [
    "#your code for 3a"
   ]
  },
  {
   "cell_type": "markdown",
   "metadata": {},
   "source": [
    "### b) \n",
    "Let $(a,b)$ be a sample from the joint distribution of $(X, Y)$. Then $ab$ is a sample from the distribution of $XY$. Use this fact to estimate $P(XY > 0.1)$ using $1000$ samples from the distribution of $(X, Y)$. Your final answer should be one number, namely your estimate for $P(XY > 0.1)$. "
   ]
  },
  {
   "cell_type": "code",
   "execution_count": null,
   "metadata": {},
   "outputs": [],
   "source": [
    "#your code for 3b"
   ]
  },
  {
   "cell_type": "markdown",
   "metadata": {},
   "source": [
    "## Problem 4\n",
    "In this problem we introduce the multinomial distribution which is a generalization of the binomial distribution. Whereas the Binomial distribution counts the successes in a fixed number of trials that can only be\n",
    "categorized as success or failure, the Multinomial distribution keeps track of trials\n",
    "whose outcomes can fall into multiple categories, such as excellent, adequate, poor;\n",
    "or red, yellow, green, blue.\n",
    "\n",
    "**Formal Definition**: Suppose we have $n$ objects. Each of $n$ objects is independently placed into one of $k$ categories. An object is placed into category $j$ with probability $p_j$, where the $p_j$ are nonnegative and $\\sum_{j=1}^k p_j = 1$. Let $X_1$ be the number of objects in category $1$, $X_2$ the number of objects in category $2$, etc., so that $X_1 + X_2+ \\cdots + X_k = n$. Then $\\mathbf{X} = (X_1, X_2, \\ldots, X_k)$ is said to have the Multinomial distribution with parameters $n$ and $\\mathbf{p} = (p_1, p_2, \\ldots, p_k)$. We write this as $\\mathbf{X} \\sim Mult_k(n, \\mathbf{p})$.\n",
    "\n",
    "**Example**: Suppose we roll a die $4$ times. Each outcome of a roll of a die falls into one of $6$ categories given by  the outcomes $1,2,3,4,5$ and $6$. Let $X_1$ be the number of $1$s in the four rolls of the die, $X_2$ be the number of $2$s in the four rolls of the die, and so on. Then $$\\mathbf{X} = (X_1, X_2, \\ldots, X_6) \\sim Mult_6\\left(4, \\left(\\frac{1}{6}, \\frac{1}{6},\\frac{1}{6},\\frac{1}{6},\\frac{1}{6},\\frac{1}{6}\\right)\\right)$$\n",
    "\n"
   ]
  },
  {
   "cell_type": "markdown",
   "metadata": {},
   "source": [
    "**Sampling from Multinomial Distribution** : We now look at how to sample from the multinomial distribution. Let us take the example of a die roll described above. The following Python code gives us the required sample."
   ]
  },
  {
   "cell_type": "code",
   "execution_count": 3,
   "metadata": {},
   "outputs": [
    {
     "data": {
      "text/plain": [
       "array([[0, 2, 1, 1, 0, 0]])"
      ]
     },
     "execution_count": 3,
     "metadata": {},
     "output_type": "execute_result"
    }
   ],
   "source": [
    "n = 4\n",
    "p = [1/6, 1/6, 1/6, 1/6, 1/6, 1/6]\n",
    "stats.multinomial.rvs(n, p, 1) #sample of size 1\n"
   ]
  },
  {
   "cell_type": "markdown",
   "metadata": {},
   "source": [
    "### a) \n",
    "An urn contains $5$ red balls, $7$ green balls and $9$ yellow balls. Consider an experiment as follows:\n",
    "1. Pick a ball from the urn, note its color and place it back in the urn. \n",
    "2. Do previous step $20$ times. \n",
    "\n",
    "Write a Python code to simulate this experiment and output the number of times  red, green and yellow balls were picked. Your output should be a list or array these three numbers only."
   ]
  },
  {
   "cell_type": "code",
   "execution_count": null,
   "metadata": {},
   "outputs": [],
   "source": [
    "#your code for 4a"
   ]
  },
  {
   "cell_type": "markdown",
   "metadata": {},
   "source": [
    "**Computing the PMF**: Suppose we are interesting in the probability that we observe $2$ two's, $1$ three, and $1$ four in four rolls of a die. The following code computes this."
   ]
  },
  {
   "cell_type": "code",
   "execution_count": 4,
   "metadata": {},
   "outputs": [
    {
     "data": {
      "text/plain": [
       "0.009259259259259257"
      ]
     },
     "execution_count": 4,
     "metadata": {},
     "output_type": "execute_result"
    }
   ],
   "source": [
    "x = [0,2,1,1,0,0]\n",
    "n = 4\n",
    "p = [1/6, 1/6, 1/6, 1/6, 1/6, 1/6]\n",
    "stats.multinomial.pmf(x,n,p)"
   ]
  },
  {
   "cell_type": "markdown",
   "metadata": {},
   "source": [
    "### b)\n",
    "Suppose in a large city there are $30\\%$ Black residents, $15\\%$ Hispanic residents, and the rest $55\\%$ residents are from other ethnicities. A jury of $12$ members is chosen from this city in such a way that each resident has an equal probability of being selected independently of every other resident. What is the probability that the jury contains $4$ Black residents, $3$ Hispanic residents and $5$ residents from other ethinicities?"
   ]
  },
  {
   "cell_type": "code",
   "execution_count": null,
   "metadata": {},
   "outputs": [],
   "source": [
    "#your code for 4b"
   ]
  }
 ],
 "metadata": {
  "kernelspec": {
   "display_name": "Python 3",
   "language": "python",
   "name": "python3"
  },
  "language_info": {
   "codemirror_mode": {
    "name": "ipython",
    "version": 3
   },
   "file_extension": ".py",
   "mimetype": "text/x-python",
   "name": "python",
   "nbconvert_exporter": "python",
   "pygments_lexer": "ipython3",
   "version": "3.8.3"
  }
 },
 "nbformat": 4,
 "nbformat_minor": 4
}
