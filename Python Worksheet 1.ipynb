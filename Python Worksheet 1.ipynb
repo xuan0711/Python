{
 "cells": [
  {
   "cell_type": "markdown",
   "metadata": {},
   "source": [
    "# STOR 535 Python Worksheet 1\n",
    "**Instructor**: Dr. Amarjit Budhiraja<br>\n",
    "**Due date and time**: September 15, 2020, 9:45 AM"
   ]
  },
  {
   "cell_type": "markdown",
   "metadata": {},
   "source": [
    "Submitted by: JULIA MENGXUAN YU"
   ]
  },
  {
   "cell_type": "markdown",
   "metadata": {},
   "source": [
    "## Submission Information:\n",
    "0. **Download the file Python Worksheet 1.ipynb from Sakai**. This is under Resources $\\rightarrow$ Homeworks. You will be doing all the work below in the Jupyter notebook.\n",
    "1. Write your name in the box above.\n",
    "2. Please make sure to print the output for each of the parts of the problems below. You will be graded based on these outputs.\n",
    "3. After you complete the worksheet, generate a pdf of it using the instructions given in the Python tutorial on Aug 12, 2020. **Upload the pdf file as your submission on Gradescope. Do not submit the ipynb file.** \n",
    "4. Your final submission must be a single pdf file uploaded on Gradescope."
   ]
  },
  {
   "cell_type": "code",
   "execution_count": 2,
   "metadata": {},
   "outputs": [],
   "source": [
    "#Importing libraries\n",
    "from operator import mul\n",
    "import numpy as np\n",
    "from functools import reduce\n",
    "import math,random\n",
    "import matplotlib.pyplot as plt"
   ]
  },
  {
   "cell_type": "markdown",
   "metadata": {},
   "source": [
    "## Problem 1: ATM PINs\n",
    "\n",
    "(a) ATM PINs are four digit integer codes. For example 1234, 3183, 0000 and 9999 are some ATM PINs. Write Python code to create a list of all possible ATM PINs. The list name should be $all\\_atmpins$. Print the length of $all\\_atmpins$ and evaluate the value of $all\\_atmpins$ at indices $0, 999, 1000$ and $1101$."
   ]
  },
  {
   "cell_type": "code",
   "execution_count": 3,
   "metadata": {},
   "outputs": [],
   "source": [
    "#Write your code for part (a) in this cell\n",
    "#...\n",
    "all_atmpins = []\n",
    "\n",
    "for a in range(10):\n",
    "    for b in range (10):\n",
    "        for c in range (10):\n",
    "            for d in range(10):\n",
    "                PIN=str(a)+str(b)+str(c)+str(d)\n",
    "                all_atmpins.append(PIN)"
   ]
  },
  {
   "cell_type": "code",
   "execution_count": 4,
   "metadata": {},
   "outputs": [
    {
     "name": "stdout",
     "output_type": "stream",
     "text": [
      "10000\n",
      "0000\n",
      "0999\n",
      "1000\n",
      "1101\n"
     ]
    }
   ],
   "source": [
    "#Code for printing the length and value of all_atmpins at the given indices\n",
    "print(len(all_atmpins))\n",
    "print(all_atmpins[0])\n",
    "print(all_atmpins[999])\n",
    "print(all_atmpins[1000])\n",
    "print(all_atmpins[1101])"
   ]
  },
  {
   "cell_type": "markdown",
   "metadata": {},
   "source": [
    "(b) What are all the outcomes where the first three digits of the ATM PINs are equal to 0? Use the list $all\\_atmpins$ you created in the  previous part. Print all the outcomes."
   ]
  },
  {
   "cell_type": "code",
   "execution_count": 5,
   "metadata": {},
   "outputs": [
    {
     "name": "stdout",
     "output_type": "stream",
     "text": [
      "['0000', '0001', '0002', '0003', '0004', '0005', '0006', '0007', '0008', '0009']\n"
     ]
    }
   ],
   "source": [
    "#Code for part (b)\n",
    "three_zero=[]\n",
    "for PIN in all_atmpins:\n",
    "    if (PIN[0]==PIN[1]==PIN[2]=='0'):\n",
    "        three_zero.append(PIN)\n",
    "print(three_zero)"
   ]
  },
  {
   "cell_type": "markdown",
   "metadata": {},
   "source": [
    "(c) What are all the outcomes where the first three digits of the ATM PINs are equal? Print all the outcomes."
   ]
  },
  {
   "cell_type": "code",
   "execution_count": 6,
   "metadata": {},
   "outputs": [
    {
     "name": "stdout",
     "output_type": "stream",
     "text": [
      "['0000', '0001', '0002', '0003', '0004', '0005', '0006', '0007', '0008', '0009', '1110', '1111', '1112', '1113', '1114', '1115', '1116', '1117', '1118', '1119', '2220', '2221', '2222', '2223', '2224', '2225', '2226', '2227', '2228', '2229', '3330', '3331', '3332', '3333', '3334', '3335', '3336', '3337', '3338', '3339', '4440', '4441', '4442', '4443', '4444', '4445', '4446', '4447', '4448', '4449', '5550', '5551', '5552', '5553', '5554', '5555', '5556', '5557', '5558', '5559', '6660', '6661', '6662', '6663', '6664', '6665', '6666', '6667', '6668', '6669', '7770', '7771', '7772', '7773', '7774', '7775', '7776', '7777', '7778', '7779', '8880', '8881', '8882', '8883', '8884', '8885', '8886', '8887', '8888', '8889', '9990', '9991', '9992', '9993', '9994', '9995', '9996', '9997', '9998', '9999']\n"
     ]
    }
   ],
   "source": [
    "#Code for part (c)\n",
    "three_digit=[]\n",
    "for PIN in all_atmpins:\n",
    "    if (PIN[0]==PIN[1]==PIN[2]):\n",
    "        three_digit.append(PIN)\n",
    "print(three_digit)"
   ]
  },
  {
   "cell_type": "markdown",
   "metadata": {},
   "source": [
    "(d) What are all the outcomes where at least three digits are equal? Create a set (in Python) containing all these outcomes. Print the cardinality and all the outcomes of this set."
   ]
  },
  {
   "cell_type": "code",
   "execution_count": 7,
   "metadata": {},
   "outputs": [
    {
     "name": "stdout",
     "output_type": "stream",
     "text": [
      "['0000', '0001', '0002', '0003', '0004', '0005', '0006', '0007', '0008', '0009', '0010', '0020', '0030', '0040', '0050', '0060', '0070', '0080', '0090', '0100', '0111', '0200', '0222', '0300', '0333', '0400', '0444', '0500', '0555', '0600', '0666', '0700', '0777', '0800', '0888', '0900', '0999', '1000', '1011', '1101', '1110', '1111', '1112', '1113', '1114', '1115', '1116', '1117', '1118', '1119', '1121', '1131', '1141', '1151', '1161', '1171', '1181', '1191', '1211', '1222', '1311', '1333', '1411', '1444', '1511', '1555', '1611', '1666', '1711', '1777', '1811', '1888', '1911', '1999', '2000', '2022', '2111', '2122', '2202', '2212', '2220', '2221', '2222', '2223', '2224', '2225', '2226', '2227', '2228', '2229', '2232', '2242', '2252', '2262', '2272', '2282', '2292', '2322', '2333', '2422', '2444', '2522', '2555', '2622', '2666', '2722', '2777', '2822', '2888', '2922', '2999', '3000', '3033', '3111', '3133', '3222', '3233', '3303', '3313', '3323', '3330', '3331', '3332', '3333', '3334', '3335', '3336', '3337', '3338', '3339', '3343', '3353', '3363', '3373', '3383', '3393', '3433', '3444', '3533', '3555', '3633', '3666', '3733', '3777', '3833', '3888', '3933', '3999', '4000', '4044', '4111', '4144', '4222', '4244', '4333', '4344', '4404', '4414', '4424', '4434', '4440', '4441', '4442', '4443', '4444', '4445', '4446', '4447', '4448', '4449', '4454', '4464', '4474', '4484', '4494', '4544', '4555', '4644', '4666', '4744', '4777', '4844', '4888', '4944', '4999', '5000', '5055', '5111', '5155', '5222', '5255', '5333', '5355', '5444', '5455', '5505', '5515', '5525', '5535', '5545', '5550', '5551', '5552', '5553', '5554', '5555', '5556', '5557', '5558', '5559', '5565', '5575', '5585', '5595', '5655', '5666', '5755', '5777', '5855', '5888', '5955', '5999', '6000', '6066', '6111', '6166', '6222', '6266', '6333', '6366', '6444', '6466', '6555', '6566', '6606', '6616', '6626', '6636', '6646', '6656', '6660', '6661', '6662', '6663', '6664', '6665', '6666', '6667', '6668', '6669', '6676', '6686', '6696', '6766', '6777', '6866', '6888', '6966', '6999', '7000', '7077', '7111', '7177', '7222', '7277', '7333', '7377', '7444', '7477', '7555', '7577', '7666', '7677', '7707', '7717', '7727', '7737', '7747', '7757', '7767', '7770', '7771', '7772', '7773', '7774', '7775', '7776', '7777', '7778', '7779', '7787', '7797', '7877', '7888', '7977', '7999', '8000', '8088', '8111', '8188', '8222', '8288', '8333', '8388', '8444', '8488', '8555', '8588', '8666', '8688', '8777', '8788', '8808', '8818', '8828', '8838', '8848', '8858', '8868', '8878', '8880', '8881', '8882', '8883', '8884', '8885', '8886', '8887', '8888', '8889', '8898', '8988', '8999', '9000', '9099', '9111', '9199', '9222', '9299', '9333', '9399', '9444', '9499', '9555', '9599', '9666', '9699', '9777', '9799', '9888', '9899', '9909', '9919', '9929', '9939', '9949', '9959', '9969', '9979', '9989', '9990', '9991', '9992', '9993', '9994', '9995', '9996', '9997', '9998', '9999']\n",
      "cadinality= 370\n"
     ]
    }
   ],
   "source": [
    "#Code for part (d)\n",
    "three_digit2=[]\n",
    "for PIN in all_atmpins:\n",
    "    if (PIN[0]==PIN[1]==PIN[2])|(PIN[0]==PIN[3]==PIN[2])|(PIN[1]==PIN[2]==PIN[3])|(PIN[0]==PIN[1]==PIN[3])|(PIN[1]==PIN[2]==PIN[3]==PIN[0]):\n",
    "        three_digit2.append(PIN)\n",
    "print(three_digit2)\n",
    "cardinality=len(three_digit2)\n",
    "print('cadinality=', cardinality)"
   ]
  },
  {
   "cell_type": "markdown",
   "metadata": {},
   "source": [
    "(e) Suppose you generate an ATM PIN as follows: for each of the four digits, pick a number at random between 0 and 9 (endpoints included). We are interested in the probability that the sum of the digits of the ATM PIN is equal to 18. Compute (and print) an approximation to this probability by generating 10000 ATM PINs and computing the proportion (relative frequency) of times you observe a sum of 18. \\[Hint: For this recall that random.randint(1,n) generates an integer at random between 1 and n (endpoints included).\\]"
   ]
  },
  {
   "cell_type": "code",
   "execution_count": 8,
   "metadata": {},
   "outputs": [
    {
     "name": "stdout",
     "output_type": "stream",
     "text": [
      "0.0703\n"
     ]
    }
   ],
   "source": [
    "#Code for part (e)\n",
    "i=0\n",
    "num=0\n",
    "for i in range(10000):\n",
    "    a= random.randint(0,9)\n",
    "    b= random.randint(0,9)\n",
    "    c= random.randint(0,9)\n",
    "    d= random.randint(0,9)\n",
    "    if (a+b+c+d)==18:\n",
    "        num+=1\n",
    "    i+=1\n",
    "print(num/10000)\n"
   ]
  },
  {
   "cell_type": "markdown",
   "metadata": {},
   "source": [
    "## Problem 2: Bridge Hand"
   ]
  },
  {
   "cell_type": "markdown",
   "metadata": {},
   "source": [
    "A hand in the game of bridge consists of a simple random sample of 13 cards dealt from a standard deck. \n",
    "\n",
    "(a) Suppose a bridge hand is dealt. Write a function named $aces\\_bridge$ to compute the probability of $k$ aces in a bridge hand. Print the value of $aces\\_bridge$ at $k = 0, 1$. You may use the functions $nPr$ and $nCr$ from class for your computations."
   ]
  },
  {
   "cell_type": "code",
   "execution_count": 9,
   "metadata": {},
   "outputs": [
    {
     "name": "stdout",
     "output_type": "stream",
     "text": [
      "0.30381752701080433\n",
      "0.43884753901560625\n"
     ]
    }
   ],
   "source": [
    "def nPr(n, r): #For computing permutations\n",
    "    return math.floor(math.factorial(n)/math.factorial((n-r)))\n",
    "def nCr(n, r): #For computing combinations\n",
    "    return math.floor(math.factorial(n)/(math.factorial(r)*math.factorial(n-r)))\n",
    "\n",
    "#Your code for part (a) below this line\n",
    "def aces_bridge(k):\n",
    "    #code for computations\n",
    "    sample_size= nCr(52, 13)\n",
    "    choose_ace= nCr(4, k)\n",
    "    choose_else= nCr(48, (13-k))\n",
    "    \n",
    "    \n",
    "    return (choose_else*choose_ace)/sample_size\n",
    "#Now print output of aces_bridge at k = 0, 1\n",
    "print(aces_bridge(0))\n",
    "print(aces_bridge(1))"
   ]
  },
  {
   "cell_type": "markdown",
   "metadata": {},
   "source": [
    "(b) Compute the probability that there is at least one ace but not all the aces in a bridge hand."
   ]
  },
  {
   "cell_type": "code",
   "execution_count": 10,
   "metadata": {},
   "outputs": [
    {
     "name": "stdout",
     "output_type": "stream",
     "text": [
      "0.6935414165666266\n"
     ]
    }
   ],
   "source": [
    "#Your code for part (b)\n",
    "proba_aces=1-aces_bridge(0)-aces_bridge(4)\n",
    "print(proba_aces)"
   ]
  },
  {
   "cell_type": "markdown",
   "metadata": {},
   "source": [
    "The following code visualises the probabilities of obtaining ace(s) in a bridge hand."
   ]
  },
  {
   "cell_type": "code",
   "execution_count": 11,
   "metadata": {},
   "outputs": [
    {
     "data": {
      "image/png": "[encoded data removed]",
      "text/plain": [
       "<Figure size 432x288 with 1 Axes>"
      ]
     },
     "metadata": {
      "needs_background": "light"
     },
     "output_type": "display_data"
    }
   ],
   "source": [
    "#Run this code AFTER completing part (a).\n",
    "min_aces = 0 #min number of aces in a bridge hand\n",
    "max_aces = 4 #max number of aces in a bridge hand\n",
    "num_aces = list(range(min_aces, max_aces + 1)) #number of aces possible in a bridge hand\n",
    "probs = [aces_bridge(i) for i in num_aces] #computes a list of probabilities of obtaining aces\n",
    "plt.bar(num_aces, probs, width = 1, edgecolor = \"black\") #makes a plot with num_aces on x-axis and probs on y-axis\n",
    "plt.title(\"Aces in a Bridge Hand\") #plot title\n",
    "plt.xlabel(\"Number of aces\") #X-axis label\n",
    "plt.ylabel(\"Probability\") #Y-axis label\n",
    "plt.show() #shows the plot"
   ]
  },
  {
   "cell_type": "markdown",
   "metadata": {},
   "source": [
    "(c) The face cards are those that have faces on them: the kings, the queens, and the jacks. So there are $12$ face cards. Write a function named $faces\\_bridge$ to compute the probabilities of obtaining $k$ face cards in a bridge hand. Print the value of the function for $k = 1, 3$ and $7$."
   ]
  },
  {
   "cell_type": "code",
   "execution_count": 7,
   "metadata": {},
   "outputs": [
    {
     "name": "stdout",
     "output_type": "stream",
     "text": [
      "0.10557607904031283\n",
      "0.29367139227305405\n",
      "0.004787294560945939\n"
     ]
    }
   ],
   "source": [
    "#Your code for part (c)\n",
    "def faces_bridge(k):\n",
    "    #code for computations\n",
    "    sample_size= nCr(52, 13)\n",
    "    choose_face= nCr(12, k)\n",
    "    choose_elsecard= nCr(40, (13-k))\n",
    "    return (choose_elsecard*choose_face)/sample_size\n",
    "print(faces_bridge(1))\n",
    "print(faces_bridge(3))\n",
    "print(faces_bridge(7))"
   ]
  },
  {
   "cell_type": "markdown",
   "metadata": {},
   "source": [
    "(d) Visualize the probabilities for obtaining face cards in a bridge hand by modifying the code for plotting from part (b) above."
   ]
  },
  {
   "cell_type": "code",
   "execution_count": 12,
   "metadata": {},
   "outputs": [
    {
     "ename": "NameError",
     "evalue": "name 'faces_bridge' is not defined",
     "output_type": "error",
     "traceback": [
      "\u001b[0;31m---------------------------------------------------------------------------\u001b[0m",
      "\u001b[0;31mNameError\u001b[0m                                 Traceback (most recent call last)",
      "\u001b[0;32m<ipython-input-12-000b0c2c701f>\u001b[0m in \u001b[0;36m<module>\u001b[0;34m\u001b[0m\n\u001b[1;32m      3\u001b[0m \u001b[0mmax_faces\u001b[0m \u001b[0;34m=\u001b[0m \u001b[0;36m12\u001b[0m\u001b[0;34m\u001b[0m\u001b[0;34m\u001b[0m\u001b[0m\n\u001b[1;32m      4\u001b[0m \u001b[0mnum_faces\u001b[0m \u001b[0;34m=\u001b[0m \u001b[0mlist\u001b[0m\u001b[0;34m(\u001b[0m\u001b[0mrange\u001b[0m\u001b[0;34m(\u001b[0m\u001b[0mmin_faces\u001b[0m\u001b[0;34m,\u001b[0m \u001b[0mmax_faces\u001b[0m \u001b[0;34m+\u001b[0m \u001b[0;36m1\u001b[0m\u001b[0;34m)\u001b[0m\u001b[0;34m)\u001b[0m\u001b[0;34m\u001b[0m\u001b[0;34m\u001b[0m\u001b[0m\n\u001b[0;32m----> 5\u001b[0;31m \u001b[0mprobs\u001b[0m \u001b[0;34m=\u001b[0m \u001b[0;34m[\u001b[0m\u001b[0mfaces_bridge\u001b[0m\u001b[0;34m(\u001b[0m\u001b[0mi\u001b[0m\u001b[0;34m)\u001b[0m \u001b[0;32mfor\u001b[0m \u001b[0mi\u001b[0m \u001b[0;32min\u001b[0m \u001b[0mnum_faces\u001b[0m\u001b[0;34m]\u001b[0m\u001b[0;34m\u001b[0m\u001b[0;34m\u001b[0m\u001b[0m\n\u001b[0m\u001b[1;32m      6\u001b[0m \u001b[0mplt\u001b[0m\u001b[0;34m.\u001b[0m\u001b[0mbar\u001b[0m\u001b[0;34m(\u001b[0m\u001b[0mnum_faces\u001b[0m\u001b[0;34m,\u001b[0m \u001b[0mprobs\u001b[0m\u001b[0;34m,\u001b[0m \u001b[0mwidth\u001b[0m \u001b[0;34m=\u001b[0m \u001b[0;36m1\u001b[0m\u001b[0;34m,\u001b[0m \u001b[0medgecolor\u001b[0m \u001b[0;34m=\u001b[0m \u001b[0;34m\"black\"\u001b[0m\u001b[0;34m)\u001b[0m\u001b[0;34m\u001b[0m\u001b[0;34m\u001b[0m\u001b[0m\n\u001b[1;32m      7\u001b[0m \u001b[0mplt\u001b[0m\u001b[0;34m.\u001b[0m\u001b[0mtitle\u001b[0m\u001b[0;34m(\u001b[0m\u001b[0;34m\"Faces in a Bridge Hand\"\u001b[0m\u001b[0;34m)\u001b[0m\u001b[0;34m\u001b[0m\u001b[0;34m\u001b[0m\u001b[0m\n",
      "\u001b[0;32m<ipython-input-12-000b0c2c701f>\u001b[0m in \u001b[0;36m<listcomp>\u001b[0;34m(.0)\u001b[0m\n\u001b[1;32m      3\u001b[0m \u001b[0mmax_faces\u001b[0m \u001b[0;34m=\u001b[0m \u001b[0;36m12\u001b[0m\u001b[0;34m\u001b[0m\u001b[0;34m\u001b[0m\u001b[0m\n\u001b[1;32m      4\u001b[0m \u001b[0mnum_faces\u001b[0m \u001b[0;34m=\u001b[0m \u001b[0mlist\u001b[0m\u001b[0;34m(\u001b[0m\u001b[0mrange\u001b[0m\u001b[0;34m(\u001b[0m\u001b[0mmin_faces\u001b[0m\u001b[0;34m,\u001b[0m \u001b[0mmax_faces\u001b[0m \u001b[0;34m+\u001b[0m \u001b[0;36m1\u001b[0m\u001b[0;34m)\u001b[0m\u001b[0;34m)\u001b[0m\u001b[0;34m\u001b[0m\u001b[0;34m\u001b[0m\u001b[0m\n\u001b[0;32m----> 5\u001b[0;31m \u001b[0mprobs\u001b[0m \u001b[0;34m=\u001b[0m \u001b[0;34m[\u001b[0m\u001b[0mfaces_bridge\u001b[0m\u001b[0;34m(\u001b[0m\u001b[0mi\u001b[0m\u001b[0;34m)\u001b[0m \u001b[0;32mfor\u001b[0m \u001b[0mi\u001b[0m \u001b[0;32min\u001b[0m \u001b[0mnum_faces\u001b[0m\u001b[0;34m]\u001b[0m\u001b[0;34m\u001b[0m\u001b[0;34m\u001b[0m\u001b[0m\n\u001b[0m\u001b[1;32m      6\u001b[0m \u001b[0mplt\u001b[0m\u001b[0;34m.\u001b[0m\u001b[0mbar\u001b[0m\u001b[0;34m(\u001b[0m\u001b[0mnum_faces\u001b[0m\u001b[0;34m,\u001b[0m \u001b[0mprobs\u001b[0m\u001b[0;34m,\u001b[0m \u001b[0mwidth\u001b[0m \u001b[0;34m=\u001b[0m \u001b[0;36m1\u001b[0m\u001b[0;34m,\u001b[0m \u001b[0medgecolor\u001b[0m \u001b[0;34m=\u001b[0m \u001b[0;34m\"black\"\u001b[0m\u001b[0;34m)\u001b[0m\u001b[0;34m\u001b[0m\u001b[0;34m\u001b[0m\u001b[0m\n\u001b[1;32m      7\u001b[0m \u001b[0mplt\u001b[0m\u001b[0;34m.\u001b[0m\u001b[0mtitle\u001b[0m\u001b[0;34m(\u001b[0m\u001b[0;34m\"Faces in a Bridge Hand\"\u001b[0m\u001b[0;34m)\u001b[0m\u001b[0;34m\u001b[0m\u001b[0;34m\u001b[0m\u001b[0m\n",
      "\u001b[0;31mNameError\u001b[0m: name 'faces_bridge' is not defined"
     ]
    }
   ],
   "source": [
    "#Your code for part (d)\n",
    "min_faces = 0\n",
    "max_faces = 12 \n",
    "num_faces = list(range(min_faces, max_faces + 1)) \n",
    "probs = [faces_bridge(i) for i in num_faces] \n",
    "plt.bar(num_faces, probs, width = 1, edgecolor = \"black\") \n",
    "plt.title(\"Faces in a Bridge Hand\") \n",
    "plt.xlabel(\"Number of faces\") \n",
    "plt.ylabel(\"Probability\") \n",
    "plt.show()"
   ]
  },
  {
   "cell_type": "markdown",
   "metadata": {},
   "source": [
    "## Problem 3: Birthday Problem\n",
    "The birthday problem is the following. There are $k$ people in a room. Assume each\n",
    "person’s birthday is equally likely to be any of the $365$ days of the year (we exclude\n",
    "February $29$), and that people’s birthdays are independent (we assume there are no\n",
    "twins in the room). What is the probability that two or more people in the group\n",
    "have the same birthday? \n",
    "\n",
    "Recall that the formula for the probability above is given by \n",
    "$$\n",
    " 1 - \\frac{365 \\cdot 364 \\cdots (365 - k +1)}{365^k}. \n",
    "$$\n",
    "\n",
    "The following function $productk$ computes the numerator in the probability above."
   ]
  },
  {
   "cell_type": "code",
   "execution_count": 8,
   "metadata": {},
   "outputs": [],
   "source": [
    "def productk(k):\n",
    "    my_list = list(range(365 - k + 1, 366))\n",
    "    return reduce(mul, my_list, 1)\n"
   ]
  },
  {
   "cell_type": "markdown",
   "metadata": {},
   "source": [
    "(a) Use the function $productk$ to compute and print the probability that two or more people in the group have the same birthday when there are $5$ people in a room."
   ]
  },
  {
   "cell_type": "code",
   "execution_count": 35,
   "metadata": {},
   "outputs": [
    {
     "name": "stdout",
     "output_type": "stream",
     "text": [
      "0.02713557369979358\n"
     ]
    }
   ],
   "source": [
    "#Your code for part (a)\n",
    "five_people=productk(5)\n",
    "p=1-(five_people/365**5)\n",
    "print(p)"
   ]
  },
  {
   "cell_type": "markdown",
   "metadata": {},
   "source": [
    "(b) Write a function $birthday\\_prob$ to compute the probability  that two or more people in the group have the same birthday in a room of $k$ people. Print the value of $birthday\\_prob$ at $k = 1,2$ and $3$. You may use the function $productk$ in your code. "
   ]
  },
  {
   "cell_type": "code",
   "execution_count": 40,
   "metadata": {},
   "outputs": [
    {
     "name": "stdout",
     "output_type": "stream",
     "text": [
      "0.0\n",
      "0.002739726027397249\n",
      "0.008204165884781345\n"
     ]
    }
   ],
   "source": [
    "#Your code for part (b)\n",
    "def birthday_prob(k):\n",
    "    k_people=productk(k)\n",
    "    proba_k=1-(k_people/365**k)\n",
    "    return proba_k\n",
    "\n",
    "#Print output of birthday_prob evaluated at k =1, 2, 3\n",
    "print(birthday_prob(1))\n",
    "print(birthday_prob(2))\n",
    "print(birthday_prob(3))"
   ]
  },
  {
   "cell_type": "markdown",
   "metadata": {},
   "source": [
    "(c) How large should $k$ be so that the probability that two or more people in the group have the same birthday is greater than $0.6$? Use a $while$ loop to find $k$ and print this value as your answer. \\[Hint: You may look at code from the class worksheet on finding number of heads in a row such that probability is larger than 0.99\\]"
   ]
  },
  {
   "cell_type": "code",
   "execution_count": 53,
   "metadata": {},
   "outputs": [
    {
     "name": "stdout",
     "output_type": "stream",
     "text": [
      "27 0.626859282263242\n"
     ]
    }
   ],
   "source": [
    "#Your code for part (c)\n",
    "k=1\n",
    "p_k = 0\n",
    "while p_k < 0.6:\n",
    "      k+=1\n",
    "      p_k = birthday_prob(k)\n",
    "print(k,p_k)"
   ]
  },
  {
   "cell_type": "code",
   "execution_count": null,
   "metadata": {},
   "outputs": [],
   "source": []
  }
 ],
 "metadata": {
  "kernelspec": {
   "display_name": "Python 3",
   "language": "python",
   "name": "python3"
  },
  "language_info": {
   "codemirror_mode": {
    "name": "ipython",
    "version": 3
   },
   "file_extension": ".py",
   "mimetype": "text/x-python",
   "name": "python",
   "nbconvert_exporter": "python",
   "pygments_lexer": "ipython3",
   "version": "3.8.3"
  }
 },
 "nbformat": 4,
 "nbformat_minor": 4
}
