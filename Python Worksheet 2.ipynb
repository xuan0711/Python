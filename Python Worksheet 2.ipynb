{
 "cells": [
  {
   "cell_type": "markdown",
   "metadata": {},
   "source": [
    "# STOR 535 Python Worksheet 2\n",
    "**Instructor**: Dr. Amarjit Budhiraja\n",
    "\n",
    "**Due date and time**: October 6, 2020, 9:45 AM"
   ]
  },
  {
   "cell_type": "markdown",
   "metadata": {},
   "source": [
    "**Submitted by**: Julia Mengxuan Yu"
   ]
  },
  {
   "cell_type": "markdown",
   "metadata": {},
   "source": [
    "## Submission Information:\n",
    "0. **Download the file Python Worksheet 2.ipynb from Sakai**. This is under Resources $\\rightarrow$ Homeworks. You will be doing all the work below in the Jupyter notebook.\n",
    "1. Write your name in the box above.\n",
    "2. Please make sure to print the output for each of the parts of the problems below. You will be graded based on these outputs.\n",
    "3. After you complete the worksheet, generate a pdf of it using the instructions given in the Python tutorial on Aug 12, 2020. **Upload the pdf file as your submission on Gradescope. Do not submit the ipynb file.** \n",
    "4. Your final submission must be a single pdf file uploaded on Gradescope."
   ]
  },
  {
   "cell_type": "code",
   "execution_count": 2,
   "metadata": {
    "#solution": false,
    "#staff": false,
    "#student": false
   },
   "outputs": [],
   "source": [
    "import numpy as np\n",
    "import random\n",
    "import math\n",
    "\n",
    "# These lines do some fancy plotting magic\n",
    "import matplotlib\n",
    "%matplotlib inline\n",
    "import matplotlib.pyplot as plt\n",
    "\n",
    "# Useful for probability calculations\n",
    "from scipy import stats\n",
    "from scipy import special\n",
    "import numpy as np\n",
    "import pylab\n",
    "import ipywidgets as widgets\n",
    "from ipywidgets import interact\n",
    "from IPython.display import display\n",
    "from matplotlib.ticker import FormatStrFormatter"
   ]
  },
  {
   "cell_type": "markdown",
   "metadata": {
    "#solution": false,
    "#staff": false,
    "#student": false
   },
   "source": [
    "## Problem 1: Fixed Points of a Random Permutation ##\n",
    "\n",
    "Let $M_n$ be the number of fixed points in a random permutation of the values $1, 2, 3, \\ldots, n$. You can think of $M_n$ as the number of matches when $n$ letters labeled $1$ through $n$ are permuted randomly into $n$ envelopes labeled $1$ through $n$. For more clarity, we give an example. Let $n=5$ and suppose that\n",
    "\n",
    "+ Letter 1 is placed in envelope 4 and,\n",
    "+ Letter 2 is placed in envelope 2 and,\n",
    "+ Letter 3 is placed in envelope 3 and,\n",
    "+ Letter 4 is placed in envelope 5 and,\n",
    "+ Letter 5 is placed in envelope 1.\n",
    "\n",
    "Then in this case $M_5 = 2$ as letter $2$ is placed in envelope $2$, letter $3$ is placed in envelope $3$ and there are no other matches.\n",
    "\n",
    "The distribution of $M_n$ is given by \n",
    "\n",
    "$$\n",
    "P(M_n = k) ~ = ~ \n",
    "\\frac{1}{k!} \\cdot \\big{(} \\frac{1}{0!} - \\frac{1}{1!} + \\frac{1}{2!} - \\frac{1}{3!} + \\cdots (-1)^{n-k}\\frac{1}{(n-k)!} \\big{)} \\\\\n",
    "$$\n",
    "for $0 \\le k \\le n$. For example we have \n",
    "\n",
    "$$P(M_n = n) = \\frac{1}{n!} \\cdot \\frac{1}{0!} = \\frac{1}{n!}$$ \n",
    "and,  \n",
    "\n",
    "$$P(M_n = 1) = \\frac{1}{1!} \\cdot \\big{(} \\frac{1}{0!} - \\frac{1}{1!} + \\frac{1}{2!} - \\frac{1}{3!} + \\cdots (-1)^{n-1}\\frac{1}{(n-1)!} \\big{)}.$$\n",
    "\n"
   ]
  },
  {
   "cell_type": "markdown",
   "metadata": {
    "#solution": false,
    "#staff": false,
    "#student": false
   },
   "source": [
    "### 1a) Computing $P(M_n = k)$ ###\n",
    "Define a function `prob_matches` that takes $k$ and $n$ as its arguments and returns $P(M_n = k)$. Use as many lines of code as you need. Be careful about the signs in the expression of the probability above. "
   ]
  },
  {
   "cell_type": "code",
   "execution_count": null,
   "metadata": {},
   "outputs": [],
   "source": []
  },
  {
   "cell_type": "code",
   "execution_count": 31,
   "metadata": {
    "#solution": false,
    "#staff": false,
    "#student": true
   },
   "outputs": [],
   "source": [
    "def prob_matches(k, n):\n",
    "    p1=1/math.factorial(k)\n",
    "    i=0\n",
    "    p2=0\n",
    "    for i in range (0,n-k+1):\n",
    "       p2=p2+((-1)**i)*(1/math.factorial(i))\n",
    "    i+=1\n",
    "    return p1*p2"
   ]
  },
  {
   "cell_type": "markdown",
   "metadata": {
    "#solution": false,
    "#staff": false,
    "#student": false
   },
   "source": [
    "To confirm that your function is working correctly, think about what $P(M_n = n-1)$ should be, and then run the cell below to check."
   ]
  },
  {
   "cell_type": "code",
   "execution_count": 32,
   "metadata": {
    "#solution": false,
    "#staff": false,
    "#student": true
   },
   "outputs": [
    {
     "data": {
      "text/plain": [
       "0.0"
      ]
     },
     "execution_count": 32,
     "metadata": {},
     "output_type": "execute_result"
    }
   ],
   "source": [
    "prob_matches(99, 100)"
   ]
  },
  {
   "cell_type": "markdown",
   "metadata": {
    "#solution": false,
    "#staff": false,
    "#student": false
   },
   "source": [
    "Use the formula for $P(M_n = k)$ to think about why $P(M_n = 0)$ is very close to $P(M_n = 1)$ when $n$ is large."
   ]
  },
  {
   "cell_type": "markdown",
   "metadata": {
    "#solution": false,
    "#staff": false,
    "#student": false
   },
   "source": [
    "Now run the cell below and confirm that your function is working correctly."
   ]
  },
  {
   "cell_type": "code",
   "execution_count": 33,
   "metadata": {
    "#solution": false,
    "#staff": false,
    "#student": true
   },
   "outputs": [
    {
     "data": {
      "text/plain": [
       "(0.36787944117144245, 0.36787944117144245)"
      ]
     },
     "execution_count": 33,
     "metadata": {},
     "output_type": "execute_result"
    }
   ],
   "source": [
    "prob_matches(0, 100), prob_matches(1, 100)"
   ]
  },
  {
   "cell_type": "markdown",
   "metadata": {},
   "source": [
    "Finally print the values of your function at $k= 4, 8,$ and $12$ by running the code below."
   ]
  },
  {
   "cell_type": "code",
   "execution_count": 34,
   "metadata": {},
   "outputs": [
    {
     "data": {
      "text/plain": [
       "(0.015328310048810101, 9.12399407667268e-06, 7.680129694168923e-10)"
      ]
     },
     "execution_count": 34,
     "metadata": {},
     "output_type": "execute_result"
    }
   ],
   "source": [
    "prob_matches(4, 100), prob_matches(8, 100), prob_matches(12, 100)"
   ]
  },
  {
   "cell_type": "markdown",
   "metadata": {
    "#solution": false,
    "#staff": false,
    "#student": false
   },
   "source": [
    "###  1b) Computing $P(M_n \\leq k)$ ###\n",
    "\n",
    "Use `prob_matches` to define a function `match_dist` that takes $n$ as its argument and returns an array consisting of the probabilities $P(M_n = k)$ for $0 \\le k \\le n$. "
   ]
  },
  {
   "cell_type": "code",
   "execution_count": 35,
   "metadata": {
    "#solution": false,
    "#staff": false,
    "#student": true
   },
   "outputs": [],
   "source": [
    "def match_dist(n):\n",
    "    k=0\n",
    "    prob=[]\n",
    "    for k in range(0,n+1):\n",
    "        p=prob_matches(k,n)\n",
    "        prob.append(p)\n",
    "        k+=1\n",
    "    return np.array(prob)"
   ]
  },
  {
   "cell_type": "markdown",
   "metadata": {
    "#solution": false,
    "#staff": false,
    "#student": false
   },
   "source": [
    "Use your function `match_dist` to compute $P(M_{100} \\leq 2)$ and $P(M_{100} \\leq 10)$.\n",
    "\n"
   ]
  },
  {
   "cell_type": "code",
   "execution_count": 36,
   "metadata": {
    "#solution": false,
    "#staff": false,
    "#student": true
   },
   "outputs": [
    {
     "name": "stdout",
     "output_type": "stream",
     "text": [
      "0.9196986029286061\n",
      "0.9999999899522339\n"
     ]
    }
   ],
   "source": [
    "m2=list(range(3))\n",
    "m10=list(range(11))\n",
    "print(match_dist(100)[m2].sum())\n",
    "print(match_dist(100)[m10].sum())"
   ]
  },
  {
   "cell_type": "markdown",
   "metadata": {
    "#solution": false,
    "#staff": false,
    "#student": false
   },
   "source": [
    "### 1c)  Visualizating the Distribution ###\n",
    "Plot the distribution of $M_{100}$, the number of matches in the matching problem with 100 letters. You may use plotting code from class or Python Worksheet 1.\n"
   ]
  },
  {
   "cell_type": "code",
   "execution_count": 37,
   "metadata": {
    "#solution": false,
    "#staff": false,
    "#student": true
   },
   "outputs": [
    {
     "data": {
      "image/png": "[encoded data removed]",
      "text/plain": [
       "<Figure size 432x288 with 1 Axes>"
      ]
     },
     "metadata": {
      "needs_background": "light"
     },
     "output_type": "display_data"
    }
   ],
   "source": [
    "min_letters = 0 \n",
    "max_letters = 100 \n",
    "num_letters = list(range(0,101)) \n",
    "probs = [prob_matches(i,max_letters+1) for i in num_letters]\n",
    "plt.bar(num_letters, probs, width = 1, edgecolor = \"black\") \n",
    "plt.title(\"Number of Matches\") \n",
    "plt.xlabel(\"Number of letters\") \n",
    "plt.ylabel(\"Probability\") \n",
    "plt.show()"
   ]
  },
  {
   "cell_type": "markdown",
   "metadata": {},
   "source": [
    "## Problem 2: Extrema ##\n",
    "\n",
    "The maximum and minimum of a random sample of numbers are called the \"extrema\" of the sample. \n",
    "\n",
    "Fix positive integers $n$ and $N$. Suppose $n$ draws are made at random with replacement from the numbers $\\{1, 2, 3, \\ldots, N\\}$. Let $X_i$ be the number that appears on the $i$th draw.\n",
    "\n",
    "Let $V_n = \\min\\{X_1, X_2, \\ldots, X_n\\}$ be the sample minimum and let $W_n = \\max\\{X_1, X_2, \\ldots, X_n\\}$ be the sample maximum.\n",
    "\n",
    "We will use simulations to compute an approximation to the distribution of $W_n$."
   ]
  },
  {
   "cell_type": "markdown",
   "metadata": {},
   "source": [
    "### 2a)\n",
    "Write a function named `max_sim` that takes $N$ and $n$ as its arguments, randomly draws $n$ times with replacement from $\\{1, 2, 3, \\ldots, N\\}$ and returns the maximum of the draws."
   ]
  },
  {
   "cell_type": "code",
   "execution_count": 38,
   "metadata": {},
   "outputs": [],
   "source": [
    "def max_sim(N,n):\n",
    "    i=0\n",
    "    num=0\n",
    "    for i in range(0,n):\n",
    "        term=random.randint(1,N)\n",
    "        if term > num:\n",
    "            num = term\n",
    "        i+=1\n",
    "    return num"
   ]
  },
  {
   "cell_type": "markdown",
   "metadata": {},
   "source": [
    "The function you coded above gives one sample from the distribution of $W_n$. We now generate many samples to create an approximation to the  distribution of $W_n$."
   ]
  },
  {
   "cell_type": "markdown",
   "metadata": {},
   "source": [
    "### 2b) Approximation to $W_n$\n",
    "Fix $N = 100$ and $n = 10$. We generate $m = 1000$ samples and compute an approximation to the distribution of $W_{10}$."
   ]
  },
  {
   "cell_type": "code",
   "execution_count": 39,
   "metadata": {},
   "outputs": [],
   "source": [
    "m=1000\n",
    "my_samples = [max_sim(100,10) for i in range(m)]\n",
    "w_dist = [my_samples.count(i)/m for i in range(1,101)]\n"
   ]
  },
  {
   "cell_type": "markdown",
   "metadata": {},
   "source": [
    "Visualize the distribution `w_dist` created in the code above. You may use plotting code from class or from Python Worksheet 1 for the visualization."
   ]
  },
  {
   "cell_type": "code",
   "execution_count": 40,
   "metadata": {},
   "outputs": [
    {
     "data": {
      "image/png": "[encoded data removed]",
      "text/plain": [
       "<Figure size 432x288 with 1 Axes>"
      ]
     },
     "metadata": {
      "needs_background": "light"
     },
     "output_type": "display_data"
    }
   ],
   "source": [
    "min_ = 1 \n",
    "max_ = 101 \n",
    "num = list(range(min_,max_)) \n",
    "plt.bar(num, w_dist, width = 1, edgecolor = \"black\") \n",
    "plt.title(\"Sample Maximun\") \n",
    "plt.xlabel(\"Number\") \n",
    "plt.ylabel(\"Probability\") \n",
    "plt.show()"
   ]
  },
  {
   "cell_type": "markdown",
   "metadata": {},
   "source": [
    "### 2c) Expectation and Variance of $W_n$\n",
    "Use the distribution computed in the previous part to compute an approximate value of the expected value, $\\mathbf{E}(W_{10})$, and the variance, $\\mathbf{Var}(W_{10})$."
   ]
  },
  {
   "cell_type": "code",
   "execution_count": 41,
   "metadata": {},
   "outputs": [
    {
     "name": "stdout",
     "output_type": "stream",
     "text": [
      "Expectation is 91.563 Variance is 64.8240310000001\n"
     ]
    }
   ],
   "source": [
    "Ex=np.sum(np.arange(1,101)*w_dist)\n",
    "xsquare=np.arange(1,101)**2\n",
    "Exsquare=np.sum(xsquare*w_dist)\n",
    "var=Exsquare-Ex**2\n",
    "print(\"Expectation is\", Ex, \"Variance is\", var)"
   ]
  },
  {
   "cell_type": "markdown",
   "metadata": {},
   "source": [
    "### 2d) Distribution of $V_n$"
   ]
  },
  {
   "cell_type": "markdown",
   "metadata": {},
   "source": [
    "Review the definition of $V_n$ again. Fix $N = 100$ and $n = 10$. We want to compute an approximation to the distribution of $V_{10}$. Modify the code from previous parts of this problem to complete this part. Your final output for this part should be a plot to visualize the probability of $V_{10}$."
   ]
  },
  {
   "cell_type": "code",
   "execution_count": 42,
   "metadata": {},
   "outputs": [],
   "source": [
    "def min_sim(N,n):\n",
    "    i=0\n",
    "    num=float('inf')\n",
    "    for i in range(0,n):\n",
    "        term=random.randint(1,N)\n",
    "        if term < num:\n",
    "            num = term\n",
    "        i+=1\n",
    "    return num"
   ]
  },
  {
   "cell_type": "code",
   "execution_count": 43,
   "metadata": {},
   "outputs": [
    {
     "data": {
      "image/png": "[encoded data removed]",
      "text/plain": [
       "<Figure size 432x288 with 1 Axes>"
      ]
     },
     "metadata": {
      "needs_background": "light"
     },
     "output_type": "display_data"
    }
   ],
   "source": [
    "m=1000\n",
    "my_samples = [min_sim(100,10) for i in range(m)]\n",
    "v_dist = [my_samples.count(i)/m for i in range(1,101)]\n",
    "min_2 = 1 \n",
    "max_2 = 101\n",
    "num2 = list(range(min_2,max_2)) \n",
    "plt.bar(num2, v_dist, width = 1, edgecolor = \"black\") \n",
    "plt.title(\"Sample Minimun\") \n",
    "plt.xlabel(\"Number\") \n",
    "plt.ylabel(\"Probability\") \n",
    "plt.show()"
   ]
  },
  {
   "cell_type": "code",
   "execution_count": null,
   "metadata": {},
   "outputs": [],
   "source": []
  },
  {
   "cell_type": "code",
   "execution_count": null,
   "metadata": {},
   "outputs": [],
   "source": []
  },
  {
   "cell_type": "code",
   "execution_count": null,
   "metadata": {},
   "outputs": [],
   "source": []
  }
 ],
 "metadata": {
  "anaconda-cloud": {},
  "checksums": [
   "1ccfeeb045915fb7127619e3ebb3482e",
   "19278b3cf9bcdf181f8d11368e62ee13",
   "bbbd0bf658428e10cbfd889247879924",
   "dda24b49941d07a123ae5244852db6d8",
   "518c84f8a1f148dbd174743a2ce02a06",
   "215ed6c8654224bcdb429ca58d5e7135",
   "4fb206b23cca8f1941265599b0f0f320",
   "cc673e0dfad1f3527f5e53fee9d4b00c",
   "b182444b425e530aebac0b1429b8d999",
   "c58db66b6fee81063dd7637932e6e637",
   "8d31345e276966579a2701d3c436204e",
   "dc8bbeae78e29542dbc5821cbfe3e544",
   "05b6c4f7180c1a2613cba1b9916e62c6",
   "f2d3986dda5745b05e14aaacad5637bd",
   "d63fc24a323a733c9a8c08b76a87d9d2",
   "640061103a186fd26f59746dd4d6de57",
   "2eb2cc1aed68b29173523bf369c0a276",
   "1afa43ff627a216b14f247dfca4c51d6",
   "b9c4afd0d6308b642b09aa30c7aac726",
   "61eabfbb6c12528de4cb52a76fa50a81",
   "1c9082e82d8238d32d369f3533ca5e8c",
   "1dfb51cb71d2f70285237eea8507884f",
   "3a76d7cce4e9ecdb4fe70737e7879960",
   "bf1f7cacc1f8f52a58a3967f91a19f66",
   "b9b9cba3588e3769333618b5f4f304d6",
   "ef6ffe53b34e7f709afb7097e7911b96",
   "67103cc9f45ab2bad10bf4cc85d65d19",
   "07e8aa5e3271f9eeabea10bf1d87d8fd",
   "25df0da9d04ff98129e0a93242a87af4",
   "3a76d7cce4e9ecdb4fe70737e7879960",
   "1aabb21d7cc08586d33f6f3562958996",
   "341062640dfbd339294b11cd1448f3d4",
   "640061103a186fd26f59746dd4d6de57",
   "42083454535fdc3249d3e08b7701b322",
   "6891bcdabd7c4df54746baf6abb748c5",
   "17c82d80cd605f89249c1a4dcaa6cf5d",
   "ccd968724b42bfca21602c4b01fe670e",
   "a69f522a6aaff30f0c94bb6718e0f0a6",
   "ebe5b742470b60a4776142e086c97581",
   "e5d431036fddc147a594c93542a2921e",
   "ef5759ff92165c4e90015fe67846ec3b",
   "097e0986d8b306e495a9be667cdabc71",
   "3a76d7cce4e9ecdb4fe70737e7879960",
   "b0f66f48ec744bdf5328aa5b336ca88c",
   "07f2b0a9b704a628743082e0968f5cbc",
   "33d27b158761fd77f8548f1ce3ae1cb0",
   "2f43b42fd833d1e77420a8dae7419000",
   "e2f3f6725751d9672766db0bf88de474",
   "0ac6e1505530a756a34808a362a2b6a9",
   "0f9693248cdcf99ce169c189f0d93a61",
   "6ffc1f0498e2ef6453f3176c7c457fab",
   "7b90ee6f8781d1bc4123617b145c4368",
   "640061103a186fd26f59746dd4d6de57",
   "e35b43c56e720a142f61a1a3da176c96",
   "3b0954c110e04e0077390aa31be593d0",
   "78f47abb6597e3867c7abb5f59abb8b0",
   "c1998857407a30636b74dd83e9fd99b7",
   "1ba5798afe8b4b9b50a92451638e4938",
   "6019af823cc745ff239519a0110097ed",
   "30115b9210703022991b1b6ea563b523",
   "7974463748638706c4ccb40ee8e0717b",
   "71f2f1609b5cc73741f9e07b05ab0e6c",
   "732477c7f5d4080670738ff6df6da214",
   "44fd51da968ba3e9826a7bfc01c5315b",
   "a5c83e9c609c7ba7ea08197f3a40884f",
   "9f510c9287290ff2ae0ca220016f6f7a",
   "a44fc18c480b10ed64ec11d21b2b3d43",
   "2e2c2c4d314a75eb8b8ef2bc1765ecac",
   "406b98dcbaa39ff2691d337b1e491fba",
   "0de20b93bb878d597e59213991465648",
   "2f43b42fd833d1e77420a8dae7419000",
   "7d03d983dcfc893b98847e1b9516b925",
   "ec8e9b6ea679ae678dce8a399fc78da4",
   "44977b3db689a628d3a1b581508f8496"
  ],
  "kernelspec": {
   "display_name": "Python 3",
   "language": "python",
   "name": "python3"
  },
  "language_info": {
   "codemirror_mode": {
    "name": "ipython",
    "version": 3
   },
   "file_extension": ".py",
   "mimetype": "text/x-python",
   "name": "python",
   "nbconvert_exporter": "python",
   "pygments_lexer": "ipython3",
   "version": "3.8.3"
  },
  "number_of_pagebreaks": 3,
  "widgets": {
   "state": {},
   "version": "1.1.2"
  }
 },
 "nbformat": 4,
 "nbformat_minor": 4
}
